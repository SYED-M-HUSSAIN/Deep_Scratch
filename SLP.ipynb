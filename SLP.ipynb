{
  "nbformat": 4,
  "nbformat_minor": 0,
  "metadata": {
    "colab": {
      "provenance": []
    },
    "kernelspec": {
      "name": "python3",
      "display_name": "Python 3"
    },
    "language_info": {
      "name": "python"
    }
  },
  "cells": [
    {
      "cell_type": "code",
      "execution_count": 23,
      "metadata": {
        "id": "DXFLWRrChDbg"
      },
      "outputs": [],
      "source": [
        "import numpy as np\n",
        "import pandas as pd\n",
        "import tensorflow as tf\n",
        "from tensorflow.keras.models import Sequential\n",
        "from tensorflow.keras.layers import Dense, Activation , Input\n",
        "from tensorflow.keras import layers\n",
        "from tensorflow.keras.datasets import boston_housing"
      ]
    },
    {
      "cell_type": "code",
      "source": [
        "(x_train,y_train),(x_test,y_test)= boston_housing.load_data()\n",
        "\n",
        "y_test.shape\n",
        "x_train.shape\n",
        "x_test.shape"
      ],
      "metadata": {
        "colab": {
          "base_uri": "https://localhost:8080/"
        },
        "id": "hrARsVuTqp2F",
        "outputId": "df1be537-ae92-42c9-8674-0d1457456b9f"
      },
      "execution_count": 24,
      "outputs": [
        {
          "output_type": "execute_result",
          "data": {
            "text/plain": [
              "(102, 13)"
            ]
          },
          "metadata": {},
          "execution_count": 24
        }
      ]
    },
    {
      "cell_type": "code",
      "source": [
        "boston_features = {\n",
        "    \"Average Number of Rooms\": 5,\n",
        "}\n",
        "\n",
        "X_train_1d = x_train[:, boston_features[\"Average Number of Rooms\"]]\n",
        "print(X_train_1d.shape)\n",
        "\n",
        "X_test_1d = x_test[:, boston_features[\"Average Number of Rooms\"]]"
      ],
      "metadata": {
        "colab": {
          "base_uri": "https://localhost:8080/"
        },
        "id": "AIQ_Oiy-vDUp",
        "outputId": "a17cc9cf-fddc-47e2-be96-7b67c5d47612"
      },
      "execution_count": 25,
      "outputs": [
        {
          "output_type": "stream",
          "name": "stdout",
          "text": [
            "(404,)\n"
          ]
        }
      ]
    },
    {
      "cell_type": "code",
      "source": [
        "model = Sequential()\n",
        "model.add(Dense(units=8, input_shape=(1,)))\n",
        "model.summary()"
      ],
      "metadata": {
        "colab": {
          "base_uri": "https://localhost:8080/"
        },
        "id": "UmC4v1cpsRY6",
        "outputId": "ffa7aef5-1ce7-4226-d24a-ca9045119c5e"
      },
      "execution_count": 51,
      "outputs": [
        {
          "output_type": "stream",
          "name": "stdout",
          "text": [
            "Model: \"sequential_7\"\n",
            "_________________________________________________________________\n",
            " Layer (type)                Output Shape              Param #   \n",
            "=================================================================\n",
            " dense_10 (Dense)            (None, 8)                 16        \n",
            "                                                                 \n",
            " dense_11 (Dense)            (None, 6)                 54        \n",
            "                                                                 \n",
            " dense_12 (Dense)            (None, 4)                 28        \n",
            "                                                                 \n",
            " dense_13 (Dense)            (None, 2)                 10        \n",
            "                                                                 \n",
            "=================================================================\n",
            "Total params: 108 (432.00 Byte)\n",
            "Trainable params: 108 (432.00 Byte)\n",
            "Non-trainable params: 0 (0.00 Byte)\n",
            "_________________________________________________________________\n"
          ]
        }
      ]
    },
    {
      "cell_type": "code",
      "source": [
        "model.compile(optimizer=tf.keras.optimizers.RMSprop(learning_rate=0.005), loss=\"mse\")\n"
      ],
      "metadata": {
        "id": "dJrIvt_htX0L"
      },
      "execution_count": 52,
      "outputs": []
    },
    {
      "cell_type": "code",
      "source": [
        "\n",
        "\n",
        "history = model.fit(\n",
        "    X_train_1d,\n",
        "    y_train,\n",
        "    batch_size=16,\n",
        "    epochs=101,\n",
        "    validation_split=0.3,\n",
        ")\n",
        "\n"
      ],
      "metadata": {
        "colab": {
          "base_uri": "https://localhost:8080/"
        },
        "id": "N6yw_TD5ty39",
        "outputId": "3b431890-52a6-441e-bcc4-2dc1d4ad1a68"
      },
      "execution_count": 54,
      "outputs": [
        {
          "output_type": "stream",
          "name": "stdout",
          "text": [
            "Epoch 1/101\n",
            "18/18 [==============================] - 0s 9ms/step - loss: 45.4346 - val_loss: 59.3847\n",
            "Epoch 2/101\n",
            "18/18 [==============================] - 0s 5ms/step - loss: 44.9407 - val_loss: 55.2364\n",
            "Epoch 3/101\n",
            "18/18 [==============================] - 0s 4ms/step - loss: 44.7095 - val_loss: 57.6842\n",
            "Epoch 4/101\n",
            "18/18 [==============================] - 0s 5ms/step - loss: 44.8044 - val_loss: 56.5200\n",
            "Epoch 5/101\n",
            "18/18 [==============================] - 0s 4ms/step - loss: 43.8657 - val_loss: 64.8703\n",
            "Epoch 6/101\n",
            "18/18 [==============================] - 0s 5ms/step - loss: 44.3843 - val_loss: 65.6901\n",
            "Epoch 7/101\n",
            "18/18 [==============================] - 0s 5ms/step - loss: 43.6335 - val_loss: 62.1778\n",
            "Epoch 8/101\n",
            "18/18 [==============================] - 0s 4ms/step - loss: 44.0123 - val_loss: 55.9002\n",
            "Epoch 9/101\n",
            "18/18 [==============================] - 0s 5ms/step - loss: 44.5326 - val_loss: 53.3504\n",
            "Epoch 10/101\n",
            "18/18 [==============================] - 0s 5ms/step - loss: 43.6396 - val_loss: 53.9014\n",
            "Epoch 11/101\n",
            "18/18 [==============================] - 0s 4ms/step - loss: 45.9257 - val_loss: 53.6719\n",
            "Epoch 12/101\n",
            "18/18 [==============================] - 0s 4ms/step - loss: 44.9635 - val_loss: 53.0738\n",
            "Epoch 13/101\n",
            "18/18 [==============================] - 0s 4ms/step - loss: 44.8005 - val_loss: 54.1371\n",
            "Epoch 14/101\n",
            "18/18 [==============================] - 0s 5ms/step - loss: 44.0108 - val_loss: 60.9185\n",
            "Epoch 15/101\n",
            "18/18 [==============================] - 0s 4ms/step - loss: 45.3569 - val_loss: 61.6262\n",
            "Epoch 16/101\n",
            "18/18 [==============================] - 0s 4ms/step - loss: 44.2038 - val_loss: 53.9276\n",
            "Epoch 17/101\n",
            "18/18 [==============================] - 0s 4ms/step - loss: 43.9409 - val_loss: 57.3472\n",
            "Epoch 18/101\n",
            "18/18 [==============================] - 0s 4ms/step - loss: 43.3391 - val_loss: 59.3993\n",
            "Epoch 19/101\n",
            "18/18 [==============================] - 0s 4ms/step - loss: 46.0078 - val_loss: 52.4234\n",
            "Epoch 20/101\n",
            "18/18 [==============================] - 0s 4ms/step - loss: 43.1958 - val_loss: 52.9297\n",
            "Epoch 21/101\n",
            "18/18 [==============================] - 0s 4ms/step - loss: 43.6974 - val_loss: 64.8194\n",
            "Epoch 22/101\n",
            "18/18 [==============================] - 0s 4ms/step - loss: 42.7978 - val_loss: 57.5735\n",
            "Epoch 23/101\n",
            "18/18 [==============================] - 0s 4ms/step - loss: 44.3856 - val_loss: 60.7051\n",
            "Epoch 24/101\n",
            "18/18 [==============================] - 0s 4ms/step - loss: 43.6997 - val_loss: 52.2877\n",
            "Epoch 25/101\n",
            "18/18 [==============================] - 0s 4ms/step - loss: 44.6256 - val_loss: 58.0175\n",
            "Epoch 26/101\n",
            "18/18 [==============================] - 0s 4ms/step - loss: 43.8255 - val_loss: 53.1335\n",
            "Epoch 27/101\n",
            "18/18 [==============================] - 0s 4ms/step - loss: 45.5876 - val_loss: 56.2649\n",
            "Epoch 28/101\n",
            "18/18 [==============================] - 0s 4ms/step - loss: 43.5084 - val_loss: 53.9841\n",
            "Epoch 29/101\n",
            "18/18 [==============================] - 0s 4ms/step - loss: 45.1758 - val_loss: 54.6465\n",
            "Epoch 30/101\n",
            "18/18 [==============================] - 0s 4ms/step - loss: 45.5855 - val_loss: 57.0685\n",
            "Epoch 31/101\n",
            "18/18 [==============================] - 0s 4ms/step - loss: 45.1670 - val_loss: 53.4686\n",
            "Epoch 32/101\n",
            "18/18 [==============================] - 0s 4ms/step - loss: 42.8359 - val_loss: 52.0937\n",
            "Epoch 33/101\n",
            "18/18 [==============================] - 0s 4ms/step - loss: 43.8533 - val_loss: 53.0460\n",
            "Epoch 34/101\n",
            "18/18 [==============================] - 0s 4ms/step - loss: 45.6702 - val_loss: 54.4536\n",
            "Epoch 35/101\n",
            "18/18 [==============================] - 0s 4ms/step - loss: 44.1266 - val_loss: 55.2004\n",
            "Epoch 36/101\n",
            "18/18 [==============================] - 0s 4ms/step - loss: 43.8329 - val_loss: 55.2069\n",
            "Epoch 37/101\n",
            "18/18 [==============================] - 0s 5ms/step - loss: 44.3331 - val_loss: 52.5705\n",
            "Epoch 38/101\n",
            "18/18 [==============================] - 0s 4ms/step - loss: 43.7579 - val_loss: 76.2391\n",
            "Epoch 39/101\n",
            "18/18 [==============================] - 0s 4ms/step - loss: 45.2616 - val_loss: 59.4206\n",
            "Epoch 40/101\n",
            "18/18 [==============================] - 0s 6ms/step - loss: 43.5159 - val_loss: 65.3854\n",
            "Epoch 41/101\n",
            "18/18 [==============================] - 0s 7ms/step - loss: 45.6181 - val_loss: 57.1132\n",
            "Epoch 42/101\n",
            "18/18 [==============================] - 0s 6ms/step - loss: 43.2094 - val_loss: 56.9252\n",
            "Epoch 43/101\n",
            "18/18 [==============================] - 0s 6ms/step - loss: 45.7451 - val_loss: 55.8392\n",
            "Epoch 44/101\n",
            "18/18 [==============================] - 0s 7ms/step - loss: 44.8759 - val_loss: 52.0508\n",
            "Epoch 45/101\n",
            "18/18 [==============================] - 0s 7ms/step - loss: 42.8126 - val_loss: 53.4556\n",
            "Epoch 46/101\n",
            "18/18 [==============================] - 0s 6ms/step - loss: 42.7210 - val_loss: 54.6314\n",
            "Epoch 47/101\n",
            "18/18 [==============================] - 0s 6ms/step - loss: 44.8607 - val_loss: 59.7278\n",
            "Epoch 48/101\n",
            "18/18 [==============================] - 0s 6ms/step - loss: 43.3103 - val_loss: 60.5513\n",
            "Epoch 49/101\n",
            "18/18 [==============================] - 0s 6ms/step - loss: 44.2517 - val_loss: 52.5839\n",
            "Epoch 50/101\n",
            "18/18 [==============================] - 0s 5ms/step - loss: 44.4560 - val_loss: 52.3834\n",
            "Epoch 51/101\n",
            "18/18 [==============================] - 0s 5ms/step - loss: 44.0100 - val_loss: 52.0866\n",
            "Epoch 52/101\n",
            "18/18 [==============================] - 0s 6ms/step - loss: 44.9562 - val_loss: 54.8147\n",
            "Epoch 53/101\n",
            "18/18 [==============================] - 0s 8ms/step - loss: 42.5005 - val_loss: 52.0630\n",
            "Epoch 54/101\n",
            "18/18 [==============================] - 0s 21ms/step - loss: 43.5535 - val_loss: 54.1399\n",
            "Epoch 55/101\n",
            "18/18 [==============================] - 0s 17ms/step - loss: 44.8348 - val_loss: 55.8015\n",
            "Epoch 56/101\n",
            "18/18 [==============================] - 0s 6ms/step - loss: 43.5293 - val_loss: 62.4666\n",
            "Epoch 57/101\n",
            "18/18 [==============================] - 0s 6ms/step - loss: 44.3429 - val_loss: 63.4455\n",
            "Epoch 58/101\n",
            "18/18 [==============================] - 0s 6ms/step - loss: 44.5074 - val_loss: 57.3002\n",
            "Epoch 59/101\n",
            "18/18 [==============================] - 0s 4ms/step - loss: 44.3289 - val_loss: 53.7405\n",
            "Epoch 60/101\n",
            "18/18 [==============================] - 0s 5ms/step - loss: 43.3694 - val_loss: 57.7642\n",
            "Epoch 61/101\n",
            "18/18 [==============================] - 0s 5ms/step - loss: 44.6117 - val_loss: 52.4238\n",
            "Epoch 62/101\n",
            "18/18 [==============================] - 0s 4ms/step - loss: 44.8474 - val_loss: 54.0672\n",
            "Epoch 63/101\n",
            "18/18 [==============================] - 0s 4ms/step - loss: 44.1046 - val_loss: 57.6459\n",
            "Epoch 64/101\n",
            "18/18 [==============================] - 0s 5ms/step - loss: 45.8240 - val_loss: 53.3167\n",
            "Epoch 65/101\n",
            "18/18 [==============================] - 0s 5ms/step - loss: 43.8009 - val_loss: 53.6147\n",
            "Epoch 66/101\n",
            "18/18 [==============================] - 0s 4ms/step - loss: 44.5057 - val_loss: 60.9231\n",
            "Epoch 67/101\n",
            "18/18 [==============================] - 0s 5ms/step - loss: 45.0739 - val_loss: 63.1317\n",
            "Epoch 68/101\n",
            "18/18 [==============================] - 0s 4ms/step - loss: 44.7837 - val_loss: 55.2891\n",
            "Epoch 69/101\n",
            "18/18 [==============================] - 0s 5ms/step - loss: 43.7657 - val_loss: 58.0747\n",
            "Epoch 70/101\n",
            "18/18 [==============================] - 0s 4ms/step - loss: 43.7836 - val_loss: 60.7432\n",
            "Epoch 71/101\n",
            "18/18 [==============================] - 0s 4ms/step - loss: 44.6182 - val_loss: 60.0841\n",
            "Epoch 72/101\n",
            "18/18 [==============================] - 0s 5ms/step - loss: 44.1912 - val_loss: 51.9707\n",
            "Epoch 73/101\n",
            "18/18 [==============================] - 0s 4ms/step - loss: 43.4105 - val_loss: 52.8060\n",
            "Epoch 74/101\n",
            "18/18 [==============================] - 0s 4ms/step - loss: 44.1334 - val_loss: 52.0566\n",
            "Epoch 75/101\n",
            "18/18 [==============================] - 0s 4ms/step - loss: 43.1987 - val_loss: 61.5950\n",
            "Epoch 76/101\n",
            "18/18 [==============================] - 0s 4ms/step - loss: 44.0926 - val_loss: 53.5545\n",
            "Epoch 77/101\n",
            "18/18 [==============================] - 0s 4ms/step - loss: 43.6872 - val_loss: 60.6711\n",
            "Epoch 78/101\n",
            "18/18 [==============================] - 0s 4ms/step - loss: 43.6036 - val_loss: 53.6892\n",
            "Epoch 79/101\n",
            "18/18 [==============================] - 0s 4ms/step - loss: 43.3123 - val_loss: 57.6954\n",
            "Epoch 80/101\n",
            "18/18 [==============================] - 0s 4ms/step - loss: 42.6582 - val_loss: 63.5155\n",
            "Epoch 81/101\n",
            "18/18 [==============================] - 0s 4ms/step - loss: 45.2905 - val_loss: 56.0932\n",
            "Epoch 82/101\n",
            "18/18 [==============================] - 0s 4ms/step - loss: 44.4114 - val_loss: 73.0164\n",
            "Epoch 83/101\n",
            "18/18 [==============================] - 0s 4ms/step - loss: 44.3843 - val_loss: 51.8571\n",
            "Epoch 84/101\n",
            "18/18 [==============================] - 0s 4ms/step - loss: 43.5944 - val_loss: 56.7986\n",
            "Epoch 85/101\n",
            "18/18 [==============================] - 0s 5ms/step - loss: 44.1777 - val_loss: 55.9697\n",
            "Epoch 86/101\n",
            "18/18 [==============================] - 0s 4ms/step - loss: 45.1550 - val_loss: 55.5948\n",
            "Epoch 87/101\n",
            "18/18 [==============================] - 0s 4ms/step - loss: 43.2539 - val_loss: 69.8968\n",
            "Epoch 88/101\n",
            "18/18 [==============================] - 0s 4ms/step - loss: 43.7230 - val_loss: 52.7220\n",
            "Epoch 89/101\n",
            "18/18 [==============================] - 0s 4ms/step - loss: 44.7974 - val_loss: 54.1861\n",
            "Epoch 90/101\n",
            "18/18 [==============================] - 0s 4ms/step - loss: 42.8109 - val_loss: 55.0452\n",
            "Epoch 91/101\n",
            "18/18 [==============================] - 0s 4ms/step - loss: 44.3768 - val_loss: 52.0879\n",
            "Epoch 92/101\n",
            "18/18 [==============================] - 0s 4ms/step - loss: 44.1374 - val_loss: 56.6662\n",
            "Epoch 93/101\n",
            "18/18 [==============================] - 0s 4ms/step - loss: 43.2229 - val_loss: 52.9021\n",
            "Epoch 94/101\n",
            "18/18 [==============================] - 0s 4ms/step - loss: 43.5382 - val_loss: 56.3458\n",
            "Epoch 95/101\n",
            "18/18 [==============================] - 0s 4ms/step - loss: 44.5406 - val_loss: 53.0449\n",
            "Epoch 96/101\n",
            "18/18 [==============================] - 0s 5ms/step - loss: 44.2270 - val_loss: 59.3102\n",
            "Epoch 97/101\n",
            "18/18 [==============================] - 0s 6ms/step - loss: 43.9518 - val_loss: 64.3554\n",
            "Epoch 98/101\n",
            "18/18 [==============================] - 0s 4ms/step - loss: 44.0442 - val_loss: 64.6802\n",
            "Epoch 99/101\n",
            "18/18 [==============================] - 0s 4ms/step - loss: 43.9406 - val_loss: 52.0327\n",
            "Epoch 100/101\n",
            "18/18 [==============================] - 0s 4ms/step - loss: 44.4039 - val_loss: 59.5073\n",
            "Epoch 101/101\n",
            "18/18 [==============================] - 0s 4ms/step - loss: 45.0656 - val_loss: 64.6432\n"
          ]
        }
      ]
    },
    {
      "cell_type": "code",
      "source": [
        "import matplotlib.pyplot as plt\n",
        "def plot_loss(history):\n",
        "    plt.figure(figsize=(20,5))\n",
        "    plt.plot(history.history['loss'], 'g', label='Training Loss')\n",
        "    plt.plot(history.history['val_loss'], 'b', label='Validation Loss')\n",
        "    plt.xlim([0, 100])\n",
        "    plt.ylim([0, 300])\n",
        "    plt.xlabel('Epoch')\n",
        "    plt.ylabel('Loss')\n",
        "    plt.legend()\n",
        "    plt.grid(True)"
      ],
      "metadata": {
        "id": "QkmiFDblvxeE"
      },
      "execution_count": 59,
      "outputs": []
    },
    {
      "cell_type": "code",
      "source": [
        "plot_loss(history)"
      ],
      "metadata": {
        "colab": {
          "base_uri": "https://localhost:8080/",
          "height": 390
        },
        "id": "UaHtyYMjv2pU",
        "outputId": "989d8a33-1905-4403-c16b-cae383fefb21"
      },
      "execution_count": 60,
      "outputs": [
        {
          "output_type": "display_data",
          "data": {
            "text/plain": [
              "<Figure size 2000x500 with 1 Axes>"
            ],
            "image/png": "[encoded data removed]"
          },
          "metadata": {}
        }
      ]
    },
    {
      "cell_type": "code",
      "source": [],
      "metadata": {
        "id": "Im_RrlcYzI5J"
      },
      "execution_count": null,
      "outputs": []
    }
  ]
}
